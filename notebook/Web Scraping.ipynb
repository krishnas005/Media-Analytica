{
 "cells": [
  {
   "cell_type": "code",
   "execution_count": 1,
   "metadata": {},
   "outputs": [
    {
     "name": "stdout",
     "output_type": "stream",
     "text": [
      "enter the url: https://en.wikipedia.org/wiki/Wikipedia:About\n"
     ]
    }
   ],
   "source": [
    "import requests\n",
    "from bs4 import BeautifulSoup\n",
    "\n",
    "# Replace 'url_to_scrape' with the URL of the webpage you want to scrape\n",
    "url_to_scrape = input(\"enter the url: \")"
   ]
  },
  {
   "cell_type": "code",
   "execution_count": 2,
   "metadata": {},
   "outputs": [
    {
     "name": "stdout",
     "output_type": "stream",
     "text": [
      "\n",
      "\n",
      "\n",
      "\n",
      "\n",
      "Wikipedia is a free online encyclopedia that anyone can edit in good faith, and millions already have.\n",
      "\n",
      "Wikipedia's purpose is to benefit readers by containing information on all branches of knowledge. Hosted by the Wikimedia Foundation, it consists of freely editable content, whose articles also have numerous links to guide readers to more information.\n",
      "\n",
      "Written collaboratively by largely anonymous volunteers, Wikipedia articles can be edited by anyone with Internet access (and who is not presently blocked), except in limited cases where editing is restricted to prevent disruption or vandalism. Since its creation on January 15, 2001, it has grown into the world's largest reference website, attracting over a billion visitors monthly. Wikipedia currently has more than sixty-one million articles in more than 300 languages, including 6,708,486 articles in English with 118,791 active contributors in the past month.\n",
      "\n",
      "Wikipedia's fundamental principles are summarized in its five pillars. The Wikipedia community has developed many policies and guidelines, although editors do not need to be familiar with them before contributing.\n",
      "\n",
      "Anyone can edit Wikipedia's text, references, and images. What is written is more important than who writes it. The content must conform with Wikipedia's policies, including being verifiable by published sources. Editors' opinions, beliefs, personal experiences, unreviewed research, libelous material, and copyright violations will not remain. Wikipedia's software allows easy reversal of errors, and experienced editors watch and patrol bad edits.\n",
      "\n",
      "Wikipedia differs from printed references in important ways. It is continually created and updated, and encyclopedic articles on new events appear within minutes rather than months or years. Because anyone can improve Wikipedia, it has become more comprehensive than any other encyclopedia. Its contributors enhance the quality and quantity of the articles and remove misinformation, errors, and vandalism. Any reader can fix a mistake or add more information to articles (see Researching with Wikipedia). \n",
      "\n",
      "Begin by simply clicking the [edit] or [edit source] buttons or the pencil icon  at the top of any non-protected page or section.\n",
      "Wikipedia has tested the wisdom of the crowd since 2001 and found that it succeeds.\n",
      "\n",
      "\n"
     ]
    }
   ],
   "source": [
    "# Send an HTTP GET request to the URL\n",
    "response = requests.get(url_to_scrape)\n",
    "\n",
    "# Check if the request was successful (status code 200)\n",
    "if response.status_code == 200:\n",
    "    # Parse the HTML content of the webpage\n",
    "    html_content = response.text\n",
    "    \n",
    "    # Initialize BeautifulSoup\n",
    "    soup = BeautifulSoup(html_content, 'html.parser')\n",
    "    \n",
    "    # Find all <p> tags and extract text\n",
    "    paragraphs = soup.find_all('p')\n",
    "    \n",
    "    result_string = \"\"\n",
    "    for paragraph in paragraphs:\n",
    "        result_string += paragraph.get_text() + \"\\n\"\n",
    "    \n",
    "    # Print or use the extracted text\n",
    "    print(result_string)\n",
    "else:\n",
    "    print(f\"Failed to retrieve the webpage. Status code: {response.status_code}\")\n",
    "    "
   ]
  },
  {
   "cell_type": "code",
   "execution_count": null,
   "metadata": {},
   "outputs": [],
   "source": []
  }
 ],
 "metadata": {
  "kernelspec": {
   "display_name": "Python 3 (ipykernel)",
   "language": "python",
   "name": "python3"
  },
  "language_info": {
   "codemirror_mode": {
    "name": "ipython",
    "version": 3
   },
   "file_extension": ".py",
   "mimetype": "text/x-python",
   "name": "python",
   "nbconvert_exporter": "python",
   "pygments_lexer": "ipython3",
   "version": "3.9.13"
  }
 },
 "nbformat": 4,
 "nbformat_minor": 1
}
